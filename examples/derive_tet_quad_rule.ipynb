{
 "cells": [
  {
   "cell_type": "code",
   "execution_count": 1,
   "id": "b8bae1cc-5821-4e14-af6e-4d0a0fbbdf90",
   "metadata": {},
   "outputs": [
    {
     "name": "stderr",
     "output_type": "stream",
     "text": [
      "\u001b[36m\u001b[1m[ \u001b[22m\u001b[39m\u001b[36m\u001b[1mInfo: \u001b[22m\u001b[39mPrecompiling SummationByParts [55d25451-638a-4804-8089-59924bcb4a40]\n",
      "\u001b[36m\u001b[1m[ \u001b[22m\u001b[39m\u001b[36m\u001b[1mInfo: \u001b[22m\u001b[39mSkipping precompilation since __precompile__(false). Importing SummationByParts [55d25451-638a-4804-8089-59924bcb4a40].\n"
     ]
    },
    {
     "data": {
      "application/vnd.webio.node+json": {
       "children": [],
       "instanceArgs": {
        "namespace": "html",
        "tag": "div"
       },
       "nodeType": "DOM",
       "props": {},
       "type": "node"
      },
      "text/html": [
       "<div style=\"padding: 1em; background-color: #f8d6da; border: 1px solid #f5c6cb; font-weight: bold;\">\n",
       "<p>The WebIO Jupyter extension was not detected. See the\n",
       "<a href=\"https://juliagizmos.github.io/WebIO.jl/latest/providers/ijulia/\" target=\"_blank\">\n",
       "    WebIO Jupyter integration documentation\n",
       "</a>\n",
       "for more information.\n",
       "</div>\n"
      ],
      "text/plain": [
       "WebIO._IJuliaInit()"
      ]
     },
     "metadata": {
      "@webio": {
       "kernelId": "0954ac53-fa18-4fd3-8510-07c5c229ab41"
      }
     },
     "output_type": "display_data"
    }
   ],
   "source": [
    "using SummationByParts, LinearAlgebra\n",
    "using SummationByParts.Cubature, SummationByParts.SymCubatures"
   ]
  },
  {
   "cell_type": "markdown",
   "id": "752d1bb6-b7a0-43cc-b10e-f09b73c23d95",
   "metadata": {},
   "source": [
    "# Deriving Quadrature Rules on the Reference Tetrahedron"
   ]
  },
  {
   "cell_type": "markdown",
   "id": "fe613915-58cb-44f8-8d01-67a1eae1b889",
   "metadata": {},
   "source": [
    "In the following examples, we demonstrate how one can use SummationByParts.jl to derive exiting or **new** quadrature rules on the reference tetrahedron. The input arguments required to construct an SBP operator are:\n",
    "\n",
    "    - q            # degree of the quadrature \n",
    "    - vertices     # a boolean to indicate if the vertices symmetry group should be included\n",
    "    - numS31       # an integer type for the number of S31 group\n",
    "    - midedges     # a boolean to indicate if the midedge symmetry group should be included\n",
    "    - numS22       # an integer type for the number of S22 group\n",
    "    - numfaceS21   # an integer type for the number of S21 groups on the facet\n",
    "    - numedge      # an integer type for the number of edge groups\n",
    "    - numS211      # an integer type for the number of S211 group\n",
    "    - numfaceS111  # an integer type for the number of S111 groups on the facet\n",
    "    - facecentroid # a boolean to indicate if the centroid symmetry group on the facets should be included\n",
    "    - numS1111     # an integer type for the number of the S1111 group\n",
    "    - centroid     # a boolean to indicate if the centroid should be included\n",
    "    - delta1       # perturbation coefficient when the objective function is <=0.1\n",
    "    - delta2       # perturbation coefficient when the objective function is >0.1\n",
    "    - verbose      # a boolean to show or hide interation results\n",
    "    - xinit        # initial guess if available\n",
    "    - xedge        # facet quadrature rule parameters (without weights) to construct SBP diagonal-E operators\n",
    "    - xinit_sym_group # provides the ordering of the symmetry group in the xinit vector\n",
    "    - xedge_sym_group # provides the ordering of the facet quadrature rule parameters in the xedge vector\n",
    "Note: The following ordering is assumed in xinit and xedge vectors, unless otherwise provided: \n",
    "\n",
    "    [vertices,numS31,midedges,S22,faceS21,edge,S211,faceS111,facecentroid,S1111,centroid]"
   ]
  },
  {
   "cell_type": "markdown",
   "id": "14907735-80b0-473c-aae9-f565bbbf2b9a",
   "metadata": {},
   "source": [
    "## Quadarature Rules for SBP-$\\Omega$ Operators"
   ]
  },
  {
   "cell_type": "markdown",
   "id": "c4a4b2ec-b0ca-4ff7-bca7-16dfe62a5210",
   "metadata": {},
   "source": [
    "Assume that we would like to derive a quadrature rule of degree 6 for an SBP-$\\Omega$ operator. A known rule exists with numS31=3 and numS211=1. Hence, we set the solver as: "
   ]
  },
  {
   "cell_type": "code",
   "execution_count": 2,
   "id": "88366eed-3123-4ed6-859f-b0995ddf6907",
   "metadata": {},
   "outputs": [
    {
     "name": "stdout",
     "output_type": "stream",
     "text": [
      "----------------------------------------------------------------------------------------------\n",
      "iter_pso = 1600:  iter_lma = 426:  nperturb_pso = 10:  res norm = 2.7475453919655234e-15\n",
      "----------------------------------------------------------------------------------------------\n"
     ]
    },
    {
     "data": {
      "text/plain": [
       "(TetSymCub{Float64}(5, 4, 24, false, false, false, false, 0, 0, 0, 3, 0, 1, 0, [0, 3, 0, 1, 0], [0.9670136704268266, 0.6438086137774551, 0.12202187560383426, 0.12732200375003505, 0.5393446629166319], [0.07380957539153941, 0.053230333677557, 0.013436281407094226, 0.06428571428571427]), [-1.0 -1.0 -1.0; 1.0 -1.0 -1.0; -1.0 1.0 -1.0; -1.0 -1.0 1.0])"
      ]
     },
     "execution_count": 2,
     "metadata": {},
     "output_type": "execute_result"
    }
   ],
   "source": [
    "cub, vtx = SummationByParts.deriveTetCubatureOmega(q=6,\n",
    "                                                   numS31=3, \n",
    "                                                   numS22=0,\n",
    "                                                   numS211=1, \n",
    "                                                   numS1111=0,\n",
    "                                                   centroid=false,\n",
    "                                                   xinit=[],\n",
    "                                                   delta1=1e-3,\n",
    "                                                   delta2=1e-1,\n",
    "                                                   verbose=false)"
   ]
  },
  {
   "cell_type": "markdown",
   "id": "cfd71102-64cc-4687-8645-d873336c3a6d",
   "metadata": {},
   "source": [
    "Initial guesses can be provided following the same approach as demonstrated for triangles. Furthermore, operations like accessing the weights or nodal locations in Cartesian coordinates are also carried out in a consistent manner."
   ]
  },
  {
   "cell_type": "markdown",
   "id": "877b9ffa-f2bf-478b-ae78-6aafe5289cf7",
   "metadata": {},
   "source": [
    "## Quadarature Rules for SBP-$\\Gamma$ Operators"
   ]
  },
  {
   "cell_type": "markdown",
   "id": "1550b271-e049-41b9-99b5-e4b76331cb0a",
   "metadata": {},
   "source": [
    "Assume we want to construct a quadrature rule of degree 7, with vertices, midedge, and centroid. Further, assume it has numedge=1, numface21=1, numS31=1, and numS22=1. Then we set the solver as:"
   ]
  },
  {
   "cell_type": "code",
   "execution_count": 3,
   "id": "4668f5f4-238f-4e3d-b7cd-70a626505ca7",
   "metadata": {},
   "outputs": [
    {
     "name": "stdout",
     "output_type": "stream",
     "text": [
      "----------------------------------------------------------------------------------------------\n",
      "iter_pso = 0:  iter_lma = 26:  nperturb_pso = 0:  res norm = 2.2847043724142495e-15\n",
      "----------------------------------------------------------------------------------------------\n"
     ]
    },
    {
     "data": {
      "text/plain": [
       "(TetSymCub{Float64}(4, 7, 45, true, true, true, false, 1, 1, 0, 1, 1, 0, 0, [1, 2, 2, 2, 0], [0.28418700275470193, 0.2174283201955554, 0.4500884831082469, 0.25737274681480793], [0.0015106273303336297, 0.06049054237435359, 0.004038881996228397, 0.10344930834722403, 0.02424296133613638, 0.005696088152131418, 0.08113091859465725]), [-1.0 -1.0 -1.0; 1.0 -1.0 -1.0; -1.0 1.0 -1.0; -1.0 -1.0 1.0])"
      ]
     },
     "execution_count": 3,
     "metadata": {},
     "output_type": "execute_result"
    }
   ],
   "source": [
    "cub, vtx = SummationByParts.deriveTetCubatureGamma(q=7,\n",
    "                                                   vertices=true,\n",
    "                                                   numS31=1,\n",
    "                                                   midedges=true, \n",
    "                                                   numS22=1,\n",
    "                                                   numfaceS21=1, \n",
    "                                                   numedge=1, \n",
    "                                                   numS211=0,\n",
    "                                                   numfaceS111=0, \n",
    "                                                   facecentroid=false,\n",
    "                                                   numS1111=0,\n",
    "                                                   centroid=true,\n",
    "                                                   xinit=[],\n",
    "                                                   delta1=1e-3,\n",
    "                                                   delta2=1e-1,\n",
    "                                                   verbose=false)"
   ]
  },
  {
   "cell_type": "markdown",
   "id": "54355885-bbc5-48cc-9b73-482acb985179",
   "metadata": {},
   "source": [
    "## Quadrature Rules for SBP Diagonal-E operators"
   ]
  },
  {
   "cell_type": "markdown",
   "id": "b9c0f39c-d2a5-42c6-a11f-b11a23ee2c27",
   "metadata": {},
   "source": [
    "To derive a quadrature rule for an SBP diagonal-E operator, we must first find facet quadrature rules of degree at least $2p$ accurate, where $p$ is the degree of the SBP operator."
   ]
  },
  {
   "cell_type": "markdown",
   "id": "fe7d6361-5a5e-43dc-bbba-820100521616",
   "metadata": {},
   "source": [
    "Assume we want to derive a degree $q=6$ quadrature rule (which enables constructing $p=3$ SBP diagonal-E operator). Then, we first find a degree $q_{f}=6$ facet quadrature rule. Assume this facet quadrature rule has the following symmetry groups: vertices=true, numedge=1, numS21=2. Then we obtain the facet quadratue parameters as:"
   ]
  },
  {
   "cell_type": "code",
   "execution_count": 4,
   "id": "c38ef626-6bbd-4f3d-8af5-c073d7004d81",
   "metadata": {},
   "outputs": [
    {
     "name": "stdout",
     "output_type": "stream",
     "text": [
      "----------------------------------------------------------------------------------------------\n",
      "iter_pso = 2400:  iter_lma = 621:  nperturb_pso = 35:  res norm = 1.454498044953729e-15\n",
      "----------------------------------------------------------------------------------------------\n"
     ]
    },
    {
     "data": {
      "text/plain": [
       "(TriSymCub{Float64}(3, 4, 15, true, false, false, 1, 2, 0, [0, 3, 1], [0.2372273727931858, 0.8506802519794943, 0.3077459416259916], [0.014260718614408958, 0.20376930605390367, 0.3303589772911329, 0.05913883235361056]), [-1.0 -1.0; 1.0 -1.0; -1.0 1.0])"
      ]
     },
     "execution_count": 4,
     "metadata": {},
     "output_type": "execute_result"
    }
   ],
   "source": [
    "qf = 6;\n",
    "cub_facet, _ = SummationByParts.deriveTriCubatureGamma(q=qf,\n",
    "                                                       vertices=true,\n",
    "                                                       midedges=false,\n",
    "                                                       numS21=2,\n",
    "                                                       numedge=1,\n",
    "                                                       numS111=0,\n",
    "                                                       centroid=false,\n",
    "                                                       xinit=[],\n",
    "                                                       delta1=1e-3,delta2=1e-1,verbose=false)"
   ]
  },
  {
   "cell_type": "markdown",
   "id": "4c0dd829-8421-43ff-bd3c-dec8bc34583d",
   "metadata": {},
   "source": [
    "Then, we set the edge parameters for the quadrature on the tetrahedron as the parameters of the facet quadrature parameters computed above."
   ]
  },
  {
   "cell_type": "code",
   "execution_count": 5,
   "id": "b9c5b5b1-c0e7-4c38-b45c-1bf29dd45050",
   "metadata": {},
   "outputs": [
    {
     "name": "stdout",
     "output_type": "stream",
     "text": [
      "----------------------------------------------------------------------------------------------\n",
      "iter_pso = 0:  iter_lma = 24:  nperturb_pso = 0:  res norm = 2.6971977583414453e-15\n",
      "----------------------------------------------------------------------------------------------\n"
     ]
    },
    {
     "data": {
      "text/plain": [
       "(TetSymCub{Float64}(5, 7, 51, true, false, true, false, 1, 2, 0, 1, 1, 0, 0, [1, 2, 1, 3, 0], [0.3931484668771778, 0.257863918563196, 0.2372273727931858, 0.8506802519794943, 0.3077459416259916], [0.000831199213836472, 0.06707451628396711, 0.08700624630786746, 0.0144870039567379, 0.025281032406421933, 0.004650827385021513, 0.006646628516737852]), [-1.0 -1.0 -1.0; 1.0 -1.0 -1.0; -1.0 1.0 -1.0; -1.0 -1.0 1.0])"
      ]
     },
     "execution_count": 5,
     "metadata": {},
     "output_type": "execute_result"
    }
   ],
   "source": [
    "xedge = cub_facet.params\n",
    "cub, vtx = SummationByParts.deriveTetCubatureDiagE(q=6,\n",
    "                                                   vertices=true,\n",
    "                                                   numS31=1,\n",
    "                                                   midedges=false, \n",
    "                                                   numS22=1,\n",
    "                                                   numfaceS21=2, \n",
    "                                                   numedge=1, \n",
    "                                                   numS211=0,\n",
    "                                                   numfaceS111=0, \n",
    "                                                   facecentroid=false,\n",
    "                                                   numS1111=0,\n",
    "                                                   centroid=true,\n",
    "                                                   xinit=[],\n",
    "                                                   xedge=xedge,\n",
    "                                                   delta1=1e-3,\n",
    "                                                   delta2=1e-1,\n",
    "                                                   verbose=false)"
   ]
  },
  {
   "cell_type": "code",
   "execution_count": null,
   "id": "a0ac971b-da6d-4ae7-b411-460c3702d9cb",
   "metadata": {},
   "outputs": [],
   "source": []
  },
  {
   "cell_type": "markdown",
   "id": "a302ce09-60ee-4829-b8d4-190b9c3723db",
   "metadata": {},
   "source": [
    "## Providing Initial Guess from the Literature"
   ]
  },
  {
   "cell_type": "markdown",
   "id": "a512ed46-d793-4177-a016-c74966584e53",
   "metadata": {},
   "source": [
    "Note: When providing initial guesses from the literature, it might be necessary to scale the symmetry group parameters to correctly match the parameter ranges used in SummationByParts.jl. As an example, if one wants to provide the positive interior (PI) rules from Witherden and Vincent *(On the identification of symmetric quadrature rules for finite element methods, 2015)*, the following scalings are required:\n",
    "\n",
    "- 3*numS31\n",
    "- 2*numS22\n",
    "- 2*numS211\n",
    "- 2*numS1111 "
   ]
  },
  {
   "cell_type": "markdown",
   "id": "06f78a25-0873-4edd-a94e-ecb841ec49d0",
   "metadata": {},
   "source": [
    "Consider the degree 8 PI rule from Witherden and Vincent, which has numS31=4, numS22=1, and numS211=2. It can be provided as initial guess as follows:"
   ]
  },
  {
   "cell_type": "code",
   "execution_count": 6,
   "id": "e23d503b-65c9-448c-bba8-2d896dfa33c9",
   "metadata": {},
   "outputs": [],
   "source": [
    "xinit = [3*0.107952724962210848484,3*0.18510948778258657,3*0.04231654368476728,3*0.31418170912403899, #numS31\n",
    "         2*0.43559132858383020, #numS22\n",
    "         2*0.02143393012713057,2*0.23966807631943052,2*0.20413933387602912,2*0.00792395394579735, #numS211\n",
    "         0.0352355345445451085, 0.0693756634183180436, 0.0100336748713869330, 0.0556850438092465302, #numS31 weights\n",
    "         0.0483745736817450973, #numS22 weights\n",
    "         0.0095425371877925775, 0.0206046482012804464]; #numS211 weights"
   ]
  },
  {
   "cell_type": "code",
   "execution_count": 7,
   "id": "bda84444-59e4-49d0-b605-245c3ad9af81",
   "metadata": {},
   "outputs": [
    {
     "name": "stdout",
     "output_type": "stream",
     "text": [
      "----------------------------------------------------------------------------------------------\n",
      "iter_pso = 0:  iter_lma = 0:  nperturb_pso = 0:  res norm = 2.0237285581007177e-15\n",
      "----------------------------------------------------------------------------------------------\n"
     ]
    },
    {
     "data": {
      "text/plain": [
       "(TetSymCub{Float64}(9, 7, 46, false, false, false, false, 0, 0, 0, 4, 1, 2, 0, [0, 4, 1, 2, 0], [0.32385817488663254, 0.5553284633477598, 0.12694963105430185, 0.9425451273721169, 0.8711826571676604, 0.04286786025426114, 0.47933615263886103, 0.40827866775205823, 0.0158479078915947], [0.03523553454454511, 0.06937566341831804, 0.010033674871386932, 0.05568504380924653, 0.048374573681745095, 0.009542537187792577, 0.020604648201280447]), [-1.0 -1.0 -1.0; 1.0 -1.0 -1.0; -1.0 1.0 -1.0; -1.0 -1.0 1.0])"
      ]
     },
     "execution_count": 7,
     "metadata": {},
     "output_type": "execute_result"
    }
   ],
   "source": [
    "cub, vtx = SummationByParts.deriveTetCubatureOmega(q=8,\n",
    "                                                   numS31=4, \n",
    "                                                   numS22=1,\n",
    "                                                   numS211=2, \n",
    "                                                   numS1111=0,\n",
    "                                                   centroid=false,\n",
    "                                                   xinit=xinit,\n",
    "                                                   delta1=1e-3,\n",
    "                                                   delta2=1e-1,\n",
    "                                                   verbose=false)"
   ]
  },
  {
   "cell_type": "code",
   "execution_count": null,
   "id": "d9d61326-f78d-4d8d-8e13-71cb6e34b444",
   "metadata": {},
   "outputs": [],
   "source": []
  },
  {
   "cell_type": "code",
   "execution_count": null,
   "id": "247a1043-ceb6-48e6-9bc1-f8400c65ad31",
   "metadata": {},
   "outputs": [],
   "source": []
  }
 ],
 "metadata": {
  "kernelspec": {
   "display_name": "Julia 1.9.3",
   "language": "julia",
   "name": "julia-1.9"
  },
  "language_info": {
   "file_extension": ".jl",
   "mimetype": "application/julia",
   "name": "julia",
   "version": "1.9.3"
  }
 },
 "nbformat": 4,
 "nbformat_minor": 5
}
