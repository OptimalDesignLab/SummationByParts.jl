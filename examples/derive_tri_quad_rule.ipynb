{
 "cells": [
  {
   "cell_type": "code",
   "execution_count": 1,
   "id": "199495dc-d25d-41e0-a88b-5b3e1d864aef",
   "metadata": {},
   "outputs": [
    {
     "name": "stderr",
     "output_type": "stream",
     "text": [
      "\u001b[36m\u001b[1m[ \u001b[22m\u001b[39m\u001b[36m\u001b[1mInfo: \u001b[22m\u001b[39mPrecompiling SummationByParts [55d25451-638a-4804-8089-59924bcb4a40]\n",
      "\u001b[36m\u001b[1m[ \u001b[22m\u001b[39m\u001b[36m\u001b[1mInfo: \u001b[22m\u001b[39mSkipping precompilation since __precompile__(false). Importing SummationByParts [55d25451-638a-4804-8089-59924bcb4a40].\n"
     ]
    },
    {
     "data": {
      "application/vnd.webio.node+json": {
       "children": [],
       "instanceArgs": {
        "namespace": "html",
        "tag": "div"
       },
       "nodeType": "DOM",
       "props": {},
       "type": "node"
      },
      "text/html": [
       "<div style=\"padding: 1em; background-color: #f8d6da; border: 1px solid #f5c6cb; font-weight: bold;\">\n",
       "<p>The WebIO Jupyter extension was not detected. See the\n",
       "<a href=\"https://juliagizmos.github.io/WebIO.jl/latest/providers/ijulia/\" target=\"_blank\">\n",
       "    WebIO Jupyter integration documentation\n",
       "</a>\n",
       "for more information.\n",
       "</div>\n"
      ],
      "text/plain": [
       "WebIO._IJuliaInit()"
      ]
     },
     "metadata": {
      "@webio": {
       "kernelId": "2f49adb0-911c-42a3-9ac9-9c03a196e18b"
      }
     },
     "output_type": "display_data"
    }
   ],
   "source": [
    "using SummationByParts, LinearAlgebra\n",
    "using SummationByParts.Cubature, SummationByParts.SymCubatures"
   ]
  },
  {
   "cell_type": "markdown",
   "id": "2c431a7d-a546-469e-97e1-d80904d5b676",
   "metadata": {},
   "source": [
    "# Deriving Quadrature Rules on the Reference Triangle"
   ]
  },
  {
   "cell_type": "markdown",
   "id": "2d91c3d6-6a95-4663-8699-798c1d8699db",
   "metadata": {},
   "source": [
    "In the following examples, we demonstrate how one can use SummationByParts.jl to derive exiting or **new** quadrature rules on the reference triangle. The input arguments required to construct an SBP operator are:\n",
    "\n",
    "    - q        # degree of the quadrature \n",
    "    - vertices # a boolean to indicate if the vertices symmetry group should be included\n",
    "    - midedges # a boolean to indicate if the midedge symmetry group should be included\n",
    "    - numS21   # an integer type for the number of S21 groups\n",
    "    - numedge  # an integer type for the number of edge groups\n",
    "    - numS111  # an integer type for the number of S111 groups\n",
    "    - centroid # a boolean to indicate if the centroid symmetry group should be included\n",
    "    - delta1   # perturbation coefficient when the objective function is <=0.1\n",
    "    - delta2   # perturbation coefficient when the objective function is >0.1\n",
    "    - verbose  # a boolean to show or hide interation results\n",
    "    - xinit    # initial guess if available\n",
    "    - xedge    # facet quadrature rule parameters (not including weights) to construct SBP diagonal-E operators\n",
    "    - xinit_sym_group # provides the ordering of the symmetry group in the xinit vector\n",
    "    - xedge_sym_group # provides the ordering of the facet quadrature rule parameters in the xedge vector\n",
    "\n",
    "**Note:** The following ordering is assumed in xinit and xedge vectors, unless otherwise provided: \n",
    "\n",
    "    [vertices,midedges,S21,edge,S111,centroid]\n",
    "\n"
   ]
  },
  {
   "cell_type": "markdown",
   "id": "aafea030-9b23-4666-99ed-d5dfa698ee54",
   "metadata": {},
   "source": [
    "## Quadarature Rules for SBP-$\\Omega$ Operators"
   ]
  },
  {
   "cell_type": "markdown",
   "id": "cccc1775-51a5-4689-9195-a59f2c311d30",
   "metadata": {},
   "source": [
    "It is known that a degree 10 positive interior (PI) quadrature rule exists with the symmetry groups: numS21=2, numS111=3, and centroid=true. This type of quadrature rules are required to construct SBP-$\\Omega$ operators."
   ]
  },
  {
   "cell_type": "markdown",
   "id": "7fda50c5-0b0c-4ed6-b5ae-b6eca8951d45",
   "metadata": {},
   "source": [
    "We can derive the degree 10 PI quadrature rule as follows:  "
   ]
  },
  {
   "cell_type": "code",
   "execution_count": 2,
   "id": "e68f55a8-54a3-45b4-ba3b-c5e617d3fb12",
   "metadata": {},
   "outputs": [
    {
     "name": "stdout",
     "output_type": "stream",
     "text": [
      "----------------------------------------------------------------------------------------------\n",
      "iter_pso = 1600:  iter_lma = 426:  nperturb_pso = 8:  res norm = 2.9527086092057698e-15\n",
      "----------------------------------------------------------------------------------------------\n"
     ]
    },
    {
     "data": {
      "text/plain": [
       "(TriSymCub{Float64}(8, 6, 25, false, false, true, 0, 2, 3, [1, 2, 3], [0.057007000576775775, 0.3258262357481891, 0.06737139736122055, 0.3066061103391229, 0.6733917505564628, 0.29362301078786096, 0.05861520900915903, 0.7267252339891412], [0.02190257668053687, 0.10530389893648898, 0.058645728191304404, 0.11255455942162258, 0.07078989558307676, 0.16643947397290024]), [-1.0 -1.0; 1.0 -1.0; -1.0 1.0])"
      ]
     },
     "execution_count": 2,
     "metadata": {},
     "output_type": "execute_result"
    }
   ],
   "source": [
    "cub, vtx = SummationByParts.deriveTriCubatureOmega(q=10,\n",
    "                                                    numS21=2,\n",
    "                                                    numS111=3,\n",
    "                                                    centroid=true,\n",
    "                                                    delta1=1e-3,delta2=1e-1,verbose=false)"
   ]
  },
  {
   "cell_type": "markdown",
   "id": "a2974a89-8fb3-44c8-975b-56a03c78fd3c",
   "metadata": {},
   "source": [
    "The number of iterations with the PSO and LMA algorithms are printed as \"iter_pso\" and \"iter_lma\", respectively. The output \"nperturb_pso\" indicates the number of perturbations required to avoid stagnation at non-optimal local minima. Finally, \"res norm\" is the residual norm, indicating how accurately the solution obtained satisfies the quadrature accuracy conditions. "
   ]
  },
  {
   "cell_type": "markdown",
   "id": "23a41f03-0397-4e10-9407-4ef9995fefff",
   "metadata": {},
   "source": [
    "If we have initial guess for the parameter and weight vectors, we can provide it. Let's assume the output of the above is our initial guess, so we have:"
   ]
  },
  {
   "cell_type": "code",
   "execution_count": 3,
   "id": "835c3972-6726-4829-9ed9-1908682cb9b4",
   "metadata": {},
   "outputs": [],
   "source": [
    "xinit = [0.3258262357481903, 0.057007000576775574, 0.29362301078786074, 1.0329852386556753, 0.0673713973612208, \n",
    "         0.3066061103391226, 0.7267252339891408, 0.05861520900915901,0.10530389893648966, 0.021902576680536728, \n",
    "         0.11255455942162199, 0.05864572819130461, 0.07078989558307683, 0.16643947397290043];"
   ]
  },
  {
   "cell_type": "code",
   "execution_count": 4,
   "id": "24f05b76-fa3a-4261-8fc8-852d2636386c",
   "metadata": {},
   "outputs": [
    {
     "name": "stdout",
     "output_type": "stream",
     "text": [
      "----------------------------------------------------------------------------------------------\n",
      "iter_pso = 0:  iter_lma = 0:  nperturb_pso = 0:  res norm = 3.1236275541978845e-15\n",
      "----------------------------------------------------------------------------------------------\n"
     ]
    },
    {
     "data": {
      "text/plain": [
       "(TriSymCub{Float64}(8, 6, 25, false, false, true, 0, 2, 3, [1, 2, 3], [0.3258262357481903, 0.057007000576775574, 0.29362301078786074, 1.0329852386556753, 0.0673713973612208, 0.3066061103391226, 0.7267252339891408, 0.05861520900915901], [0.10530389893648966, 0.021902576680536728, 0.11255455942162199, 0.05864572819130461, 0.07078989558307683, 0.16643947397290043]), [-1.0 -1.0; 1.0 -1.0; -1.0 1.0])"
      ]
     },
     "execution_count": 4,
     "metadata": {},
     "output_type": "execute_result"
    }
   ],
   "source": [
    "cub, vtx = SummationByParts.deriveTriCubatureOmega(q=10,\n",
    "                                                    numS21=2,\n",
    "                                                    numS111=3,\n",
    "                                                    centroid=true,\n",
    "                                                    xinit = xinit,\n",
    "                                                    delta1=1e-3,delta2=1e-1,verbose=false)"
   ]
  },
  {
   "cell_type": "markdown",
   "id": "dca46882-b898-4435-b82b-191ff5d551c0",
   "metadata": {},
   "source": [
    "The code converged at the first try since the initial guess satisfies the quadrature accuracy conditions."
   ]
  },
  {
   "cell_type": "markdown",
   "id": "4e048125-5172-4e08-b724-6e65a834e208",
   "metadata": {},
   "source": [
    "In some cases, we might want to provide initial guess only for the symmetry group parameters, i.e., we guess the nodal locations but not the weight. In such cases, we can simply provide initial guess for the parameters as follows:"
   ]
  },
  {
   "cell_type": "code",
   "execution_count": 5,
   "id": "5c10631e-806a-4ee7-964f-a7be2b8a2594",
   "metadata": {},
   "outputs": [],
   "source": [
    "xinit = [0.3258262357481903, 0.057007000576775574, 0.29362301078786074, 1.0329852386556753, \n",
    "         0.0673713973612208, 0.3066061103391226, 0.7267252339891408, 0.05861520900915901];"
   ]
  },
  {
   "cell_type": "code",
   "execution_count": 6,
   "id": "567a18b0-f261-4e7a-af2a-2a6db8bd7dd8",
   "metadata": {},
   "outputs": [
    {
     "name": "stdout",
     "output_type": "stream",
     "text": [
      "----------------------------------------------------------------------------------------------\n",
      "iter_pso = 0:  iter_lma = 26:  nperturb_pso = 0:  res norm = 2.5438260579896322e-15\n",
      "----------------------------------------------------------------------------------------------\n"
     ]
    },
    {
     "data": {
      "text/plain": [
       "(TriSymCub{Float64}(8, 6, 25, false, false, true, 0, 2, 3, [1, 2, 3], [0.32582623574818936, 0.05700700057677574, 0.2936230107878609, 1.032985238655676, 0.06737139736122055, 0.30660611033912266, 0.7267252339891411, 0.05861520900915899], [0.10530389893648918, 0.021902576680536832, 0.11255455942162244, 0.05864572819130445, 0.07078989558307679, 0.16643947397290032]), [-1.0 -1.0; 1.0 -1.0; -1.0 1.0])"
      ]
     },
     "execution_count": 6,
     "metadata": {},
     "output_type": "execute_result"
    }
   ],
   "source": [
    "cub, vtx = SummationByParts.deriveTriCubatureOmega(q=10,\n",
    "                                                    numS21=2,\n",
    "                                                    numS111=3,\n",
    "                                                    centroid=true,\n",
    "                                                    xinit = xinit,\n",
    "                                                    delta1=1e-3,delta2=1e-1,verbose=false)"
   ]
  },
  {
   "cell_type": "markdown",
   "id": "a5f97d77-7fef-43c9-a11e-3f2ced2a091f",
   "metadata": {},
   "source": [
    "The code converges with fewer number of iterations compared to the case where no initial guesses are provided."
   ]
  },
  {
   "cell_type": "markdown",
   "id": "c2942f4e-dc3b-41cc-aed1-7e10dbedfe60",
   "metadata": {},
   "source": [
    "The quadrature rules in terms of Cartesian coordinates and the respective weights can easily be accessed as follows. (Have a look at get_quad_rules.ipynb for more information regarding how to access quadrature data.)"
   ]
  },
  {
   "cell_type": "code",
   "execution_count": 7,
   "id": "e1809801-0a96-4428-9031-3e99451a1799",
   "metadata": {},
   "outputs": [
    {
     "name": "stdout",
     "output_type": "stream",
     "text": [
      "x = [-0.6741737642518106, -0.6741737642518106, 0.3483475285036213, -0.9429929994232242, -0.9429929994232242, 0.8859859988464485, 0.032985238655675986, -0.706376989212139, -0.706376989212139, 0.032985238655675986, -0.3266082494435369, -0.3266082494435369, -0.6933938896608773, -0.9326286026387796, -0.9326286026387796, -0.6933938896608773, 0.6260224922996569, 0.6260224922996569, -0.941384790990841, -0.2732747660108589, -0.2732747660108589, -0.941384790990841, 0.21465955700169997, 0.21465955700169995, -0.3333333333333333]\n",
      "\n",
      "y = [0.3483475285036213, -0.6741737642518106, -0.6741737642518106, 0.8859859988464485, -0.9429929994232242, -0.9429929994232242, -0.32660824944353684, -0.32660824944353684, 0.032985238655675986, -0.706376989212139, -0.706376989212139, 0.032985238655675986, 0.6260224922996569, 0.6260224922996569, -0.6933938896608773, -0.9326286026387796, -0.9326286026387796, -0.6933938896608773, 0.21465955700169997, 0.21465955700169997, -0.941384790990841, -0.2732747660108589, -0.2732747660108589, -0.941384790990841, -0.3333333333333333]\n",
      "\n",
      "w = [0.10530389893648918, 0.10530389893648918, 0.10530389893648918, 0.021902576680536832, 0.021902576680536832, 0.021902576680536832, 0.11255455942162244, 0.11255455942162244, 0.11255455942162244, 0.11255455942162244, 0.11255455942162244, 0.11255455942162244, 0.05864572819130445, 0.05864572819130445, 0.05864572819130445, 0.05864572819130445, 0.05864572819130445, 0.05864572819130445, 0.07078989558307679, 0.07078989558307679, 0.07078989558307679, 0.07078989558307679, 0.07078989558307679, 0.07078989558307679, 0.16643947397290032]\n"
     ]
    }
   ],
   "source": [
    "xy = SymCubatures.calcnodes(cub, vtx);\n",
    "w = SymCubatures.calcweights(cub);\n",
    "println(\"x = \", xy[1,:],\"\\n\")\n",
    "println(\"y = \", xy[2,:],\"\\n\")\n",
    "println(\"w = \", w)"
   ]
  },
  {
   "cell_type": "markdown",
   "id": "95d8e182-b503-4ac3-b9a2-d558b6ffd4f3",
   "metadata": {},
   "source": [
    "## Quadarature Rules for SBP-$\\Gamma$ Operators"
   ]
  },
  {
   "cell_type": "markdown",
   "id": "b602811d-7e0f-4188-828b-d49ca7e54138",
   "metadata": {},
   "source": [
    "Quadrature rules for SBP-$\\Gamma$ operators can be constructed the same way as for the SBP-$\\Omega$ case, except now we need to specify the symmetry groups on the facets. "
   ]
  },
  {
   "cell_type": "markdown",
   "id": "c3a2ff9b-4e8e-4fcc-aca3-2f680754b3d8",
   "metadata": {},
   "source": [
    "As an example, we consider deriving the degree 9 SBP-$\\Gamma$ operator with the symmetry groups: vertices=true, numS21=2, numedge=2, numS111=1, and centroid=false. "
   ]
  },
  {
   "cell_type": "code",
   "execution_count": 8,
   "id": "5efea0f9-8f3f-4978-8c15-891b26ddde00",
   "metadata": {},
   "outputs": [
    {
     "name": "stdout",
     "output_type": "stream",
     "text": [
      "----------------------------------------------------------------------------------------------\n",
      "iter_pso = 800:  iter_lma = 222:  nperturb_pso = 2:  res norm = 3.0920700546047786e-14\n",
      "----------------------------------------------------------------------------------------------\n"
     ]
    },
    {
     "data": {
      "text/plain": [
       "(TriSymCub{Float64}(6, 6, 27, true, false, false, 2, 2, 1, [0, 3, 3], [0.20203127676218807, 0.5264875797340505, 0.12582399442561867, 0.6352136211831422, 0.17313630713608472, 0.647219680154746], [0.0050608708572011645, 0.11124762548151548, 0.16566055227396273, 0.02200757159173919, 0.02601835402818007, 0.14432288340707455]), [-1.0 -1.0; 1.0 -1.0; -1.0 1.0])"
      ]
     },
     "execution_count": 8,
     "metadata": {},
     "output_type": "execute_result"
    }
   ],
   "source": [
    "cub, vtx = SummationByParts.deriveTriCubatureGamma(q=9,\n",
    "                                                    vertices=true,\n",
    "                                                    midedges=false,\n",
    "                                                    numS21=2,\n",
    "                                                    numedge=2,\n",
    "                                                    numS111=1,\n",
    "                                                    centroid=false,\n",
    "                                                    delta1=1e-3,delta2=1e-1,verbose=false)"
   ]
  },
  {
   "cell_type": "markdown",
   "id": "a48f1a9d-7027-45ea-a288-91fd18fa56cb",
   "metadata": {},
   "source": [
    "Initial guesses can be provided as shown for the quadrature rules of SBP-$\\Omega$ operators."
   ]
  },
  {
   "cell_type": "markdown",
   "id": "fe25028f-8f12-40bc-ad14-863928a88d0b",
   "metadata": {},
   "source": [
    "## Quadrature Rules for SBP Diagonal-E operators"
   ]
  },
  {
   "cell_type": "markdown",
   "id": "b665382f-66d4-4a0a-9ce5-a558231270f9",
   "metadata": {},
   "source": [
    "Construction of quadrature rules for SBP Diagonal-E operators requires providing facet quadrature rule parameters, i.e., in addition to the inputs used to construct quadrature rules for SBP-$\\Omega$ and SBP-$\\Gamma$."
   ]
  },
  {
   "cell_type": "markdown",
   "id": "40c9ef81-3aa2-469c-a50c-a7538f80042e",
   "metadata": {},
   "source": [
    "E.g., to derive a quadrature rule of degree 9 with LGL facet node configuration, we first compute the facet quadrature parameters as"
   ]
  },
  {
   "cell_type": "code",
   "execution_count": 9,
   "id": "ce42bdad-7924-4eae-ade7-c40f2b919923",
   "metadata": {},
   "outputs": [
    {
     "data": {
      "text/plain": [
       "2-element Vector{Float64}:\n",
       " 0.9151119481392835\n",
       " 0.7344243967353571"
      ]
     },
     "execution_count": 9,
     "metadata": {},
     "output_type": "execute_result"
    }
   ],
   "source": [
    "qf = 11; # the facet quadrature must be qf=q+mod(q,2)+1\n",
    "cub,_ = SummationByParts.Cubature.quadrature(qf, internal=false); # get LGL nodes for the facet nodes\n",
    "xedge = cub.params"
   ]
  },
  {
   "cell_type": "markdown",
   "id": "293b14a6-399c-4891-bc62-e8aed06daf46",
   "metadata": {},
   "source": [
    "Then, we can pass the facet parameters to derive the volume quadrature rule."
   ]
  },
  {
   "cell_type": "code",
   "execution_count": 10,
   "id": "7421d08d-73a7-4293-800b-b60cecb335a0",
   "metadata": {},
   "outputs": [
    {
     "name": "stdout",
     "output_type": "stream",
     "text": [
      "----------------------------------------------------------------------------------------------\n",
      "iter_pso = 1600:  iter_lma = 431:  nperturb_pso = 3:  res norm = 1.9591936518082754e-15\n",
      "----------------------------------------------------------------------------------------------\n"
     ]
    },
    {
     "data": {
      "text/plain": [
       "(TriSymCub{Float64}(7, 8, 33, true, true, false, 2, 3, 1, [0, 5, 3], [0.5087541178982853, 0.9061955826460455, 0.20376432829375626, 0.9151119481392835, 0.7344243967353571, 0.5799823223367395, 0.1393226519158476], [0.0017920776285580769, 0.022643485673719488, 0.18952069098614874, 0.09179664293560222, 0.10169110530394197, 0.017093915833797095, 0.016718199422887055, 0.09579921681266396]), [-1.0 -1.0; 1.0 -1.0; -1.0 1.0])"
      ]
     },
     "execution_count": 10,
     "metadata": {},
     "output_type": "execute_result"
    }
   ],
   "source": [
    "cub, vtx = SummationByParts.deriveTriCubatureDiagE(q=9,\n",
    "                                                    vertices=true, \n",
    "                                                    midedges=true, \n",
    "                                                    numS21=3, \n",
    "                                                    numedge=2, \n",
    "                                                    numS111=1, \n",
    "                                                    centroid=false,\n",
    "                                                    delta1=1e-2, delta2=1e-2, xinit = [], xedge = xedge, verbose=false)"
   ]
  },
  {
   "cell_type": "markdown",
   "id": "c6a6f292-a8dc-476f-adb9-60b407652a08",
   "metadata": {},
   "source": [
    "## Providing Initial Guess from the Literature"
   ]
  },
  {
   "cell_type": "markdown",
   "id": "6afb05ba-200a-44a5-8782-7db05cae6374",
   "metadata": {},
   "source": [
    "**Note**: When providing initial guesses from the literature, it might be necessary to scale the symmetry group parameters to correctly match the parameter ranges used in SummationByParts.jl. As an example, if one wants to provide the positive interior (PI) rules from Witherden and Vincent *(On the identification of symmetric quadrature rules for finite element methods, 2015)*, the following scalings are required:\n",
    "\n",
    "- 2*numS21\n",
    "- 2*numS111"
   ]
  },
  {
   "cell_type": "markdown",
   "id": "f15491bd-9759-439e-b584-bf9917ba7a05",
   "metadata": {},
   "source": [
    "E.g., Consider the q=8 PI quadrature rule, with parameters numS21=3, numS111=1, and centroid=true. We have the parameter values:\n",
    "\n",
    "- param S21 = [0.17056930775176020,0.05054722831703097,0.26311282963463811]\n",
    "- param S111 = [0.00839477740995760, 0.00839477740995760]\n",
    "- weight S21 = [0.190183268534569249, 0.206434741069436500, 0.0649169952463961606]\n",
    "- weight S111 = [0.054460628348869988]\n",
    "- weight centroid = [0.288631215355574336]"
   ]
  },
  {
   "cell_type": "markdown",
   "id": "18444102-c214-4869-94b3-bef3963256f9",
   "metadata": {},
   "source": [
    "Now, we set the above initial values in SummationByParts.jl as follows:"
   ]
  },
  {
   "cell_type": "code",
   "execution_count": 11,
   "id": "3afa4957-45c3-4f10-bdc6-c7f2a9fcaf87",
   "metadata": {},
   "outputs": [],
   "source": [
    "xinit = [0.45929258829272315*2,0.17056930775176020*2,0.050547228317030*2, \n",
    "         0.26311282963463811*2,0.00839477740995760*2,\n",
    "         0.190183268534569249, 0.206434741069436500, 0.0649169952463961606,\n",
    "         0.054460628348869988,\n",
    "         0.288631215355574336];"
   ]
  },
  {
   "cell_type": "code",
   "execution_count": 12,
   "id": "da5c7f5b-2e87-4f6a-8afc-163996230be0",
   "metadata": {},
   "outputs": [
    {
     "name": "stdout",
     "output_type": "stream",
     "text": [
      "----------------------------------------------------------------------------------------------\n",
      "iter_pso = 0:  iter_lma = 0:  nperturb_pso = 0:  res norm = 2.0546665435967762e-14\n",
      "----------------------------------------------------------------------------------------------\n"
     ]
    },
    {
     "data": {
      "text/plain": [
       "(TriSymCub{Float64}(5, 5, 16, false, false, true, 0, 3, 1, [1, 3, 1], [0.9185851765854463, 0.3411386155035204, 0.10109445663406, 0.5262256592692762, 0.0167895548199152], [0.19018326853456924, 0.2064347410694365, 0.06491699524639616, 0.054460628348869985, 0.28863121535557434]), [-1.0 -1.0; 1.0 -1.0; -1.0 1.0])"
      ]
     },
     "execution_count": 12,
     "metadata": {},
     "output_type": "execute_result"
    }
   ],
   "source": [
    "cub, vtx = SummationByParts.deriveTriCubatureOmega(q=8,\n",
    "                                                    numS21=3,\n",
    "                                                    numS111=1,\n",
    "                                                    centroid=true,\n",
    "                                                    xinit = xinit,\n",
    "                                                    delta1=1e-3,delta2=1e-1,verbose=false)"
   ]
  },
  {
   "cell_type": "markdown",
   "id": "6fcb9903-3dee-47d2-a3cd-179d0ce6dda3",
   "metadata": {},
   "source": [
    "Note that we can provide the initial parameters in any order, but we must provide the ordering. For example, consider the reordering of the above initial parameters, "
   ]
  },
  {
   "cell_type": "code",
   "execution_count": 13,
   "id": "8409521b-8525-4b9b-90af-cefc3976db09",
   "metadata": {},
   "outputs": [],
   "source": [
    "xinit_sym_group = [\"centroid\", \"numS111\", \"numS21\"];\n",
    "xinit = [0.26311282963463811*2,0.00839477740995760*2,\n",
    "         0.45929258829272315*2,0.17056930775176020*2,0.050547228317030*2,\n",
    "         0.288631215355574336,\n",
    "         0.054460628348869988,\n",
    "         0.190183268534569249, 0.206434741069436500, 0.0649169952463961606];"
   ]
  },
  {
   "cell_type": "markdown",
   "id": "fed0c746-914c-4669-a42c-80e3af824858",
   "metadata": {},
   "source": [
    "Then, we find the quadrature rule as"
   ]
  },
  {
   "cell_type": "code",
   "execution_count": 14,
   "id": "d8ca6e0f-5212-4df1-8a18-e981363e3dbf",
   "metadata": {},
   "outputs": [
    {
     "name": "stdout",
     "output_type": "stream",
     "text": [
      "----------------------------------------------------------------------------------------------\n",
      "iter_pso = 0:  iter_lma = 0:  nperturb_pso = 0:  res norm = 2.0546665435967762e-14\n",
      "----------------------------------------------------------------------------------------------\n"
     ]
    },
    {
     "data": {
      "text/plain": [
       "(TriSymCub{Float64}(5, 5, 16, false, false, true, 0, 3, 1, [1, 3, 1], [0.9185851765854463, 0.3411386155035204, 0.10109445663406, 0.5262256592692762, 0.0167895548199152], [0.19018326853456924, 0.2064347410694365, 0.06491699524639616, 0.054460628348869985, 0.28863121535557434]), [-1.0 -1.0; 1.0 -1.0; -1.0 1.0])"
      ]
     },
     "execution_count": 14,
     "metadata": {},
     "output_type": "execute_result"
    }
   ],
   "source": [
    "cub, vtx = SummationByParts.deriveTriCubatureOmega(q=8,\n",
    "                                                    numS21=3,\n",
    "                                                    numS111=1,\n",
    "                                                    centroid=true,\n",
    "                                                    xinit_sym_group=xinit_sym_group,\n",
    "                                                    xinit = xinit,\n",
    "                                                    delta1=1e-3,delta2=1e-1,verbose=false)"
   ]
  },
  {
   "cell_type": "code",
   "execution_count": null,
   "id": "b06e9113-a9fa-4839-8235-fb4236547c35",
   "metadata": {},
   "outputs": [],
   "source": []
  },
  {
   "cell_type": "code",
   "execution_count": null,
   "id": "396cb8c0-da9c-43e2-a54d-87bdf3358c1d",
   "metadata": {},
   "outputs": [],
   "source": []
  }
 ],
 "metadata": {
  "kernelspec": {
   "display_name": "Julia 1.9.3",
   "language": "julia",
   "name": "julia-1.9"
  },
  "language_info": {
   "file_extension": ".jl",
   "mimetype": "application/julia",
   "name": "julia",
   "version": "1.9.3"
  }
 },
 "nbformat": 4,
 "nbformat_minor": 5
}
