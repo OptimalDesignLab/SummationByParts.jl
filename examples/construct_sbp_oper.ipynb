{
 "cells": [
  {
   "cell_type": "code",
   "execution_count": 1,
   "id": "1537c97c-ea22-45ef-9dbc-50788a44ff81",
   "metadata": {},
   "outputs": [
    {
     "name": "stderr",
     "output_type": "stream",
     "text": [
      "\u001b[36m\u001b[1m[ \u001b[22m\u001b[39m\u001b[36m\u001b[1mInfo: \u001b[22m\u001b[39mPrecompiling SummationByParts [55d25451-638a-4804-8089-59924bcb4a40]\n",
      "\u001b[36m\u001b[1m[ \u001b[22m\u001b[39m\u001b[36m\u001b[1mInfo: \u001b[22m\u001b[39mSkipping precompilation since __precompile__(false). Importing SummationByParts [55d25451-638a-4804-8089-59924bcb4a40].\n"
     ]
    },
    {
     "data": {
      "application/vnd.webio.node+json": {
       "children": [],
       "instanceArgs": {
        "namespace": "html",
        "tag": "div"
       },
       "nodeType": "DOM",
       "props": {},
       "type": "node"
      },
      "text/html": [
       "<div style=\"padding: 1em; background-color: #f8d6da; border: 1px solid #f5c6cb; font-weight: bold;\">\n",
       "<p>The WebIO Jupyter extension was not detected. See the\n",
       "<a href=\"https://juliagizmos.github.io/WebIO.jl/latest/providers/ijulia/\" target=\"_blank\">\n",
       "    WebIO Jupyter integration documentation\n",
       "</a>\n",
       "for more information.\n",
       "</div>\n"
      ],
      "text/plain": [
       "WebIO._IJuliaInit()"
      ]
     },
     "metadata": {
      "@webio": {
       "kernelId": "5db07c26-405e-4e94-974b-13aababe0fae"
      }
     },
     "output_type": "display_data"
    }
   ],
   "source": [
    "using SummationByParts, LinearAlgebra\n",
    "using SummationByParts.Cubature, SummationByParts.SymCubatures\n",
    "using Latexify"
   ]
  },
  {
   "cell_type": "markdown",
   "id": "14ee3ea0-bfae-4bb0-b153-8174d0e38f2a",
   "metadata": {},
   "source": [
    "# Construct SBP Operators"
   ]
  },
  {
   "cell_type": "markdown",
   "id": "c3b6e11a-b647-4e29-8822-812a83eab723",
   "metadata": {},
   "source": [
    "Okay, we have derived some existing or new quadrature rules. How do we proceed to construct SBP operators?"
   ]
  },
  {
   "cell_type": "markdown",
   "id": "bcefed8f-6e9c-4725-96b6-3cf3bad1df72",
   "metadata": {},
   "source": [
    "## SBP Operators on Triangles (with LG or LGL facet nodes)"
   ]
  },
  {
   "cell_type": "markdown",
   "id": "4d391ec1-f68f-4863-b26a-d762825b208b",
   "metadata": {},
   "source": [
    "Consider the quadrature rule we derived for SBP diagonal-E operators."
   ]
  },
  {
   "cell_type": "code",
   "execution_count": 2,
   "id": "a355ec18-8944-4ad1-aacb-8abec4327691",
   "metadata": {},
   "outputs": [],
   "source": [
    "qf = 11; # the facet quadrature must be qf=q+mod(q,2)+1\n",
    "cub,_ = SummationByParts.Cubature.quadrature(qf, internal=false); # get LGL nodes for the facet nodes\n",
    "xedge = cub.params;"
   ]
  },
  {
   "cell_type": "code",
   "execution_count": 3,
   "id": "44f2d01c-d399-43c9-99b3-ba97789f06f6",
   "metadata": {},
   "outputs": [
    {
     "name": "stdout",
     "output_type": "stream",
     "text": [
      "----------------------------------------------------------------------------------------------\n",
      "iter_pso = 22400:  iter_lma = 5624:  nperturb_pso = 80:  res norm = 1.8428348086265596e-15\n",
      "----------------------------------------------------------------------------------------------\n"
     ]
    },
    {
     "data": {
      "text/plain": [
       "(TriSymCub{Float64}(7, 8, 33, true, true, false, 2, 3, 1, [0, 5, 3], [0.18756071259743237, 0.9134518938842776, 0.5163553987937517, 0.9151119481392835, 0.7344243967353571, 0.5426661668128369, 0.1601142330691843], [0.0021943470879656466, 0.02335234785435418, 0.08773819266871097, 0.10176391730890032, 0.1795919549730242, 0.015061783552305814, 0.019549042149360124, 0.10140212768518968]), [-1.0 -1.0; 1.0 -1.0; -1.0 1.0])"
      ]
     },
     "execution_count": 3,
     "metadata": {},
     "output_type": "execute_result"
    }
   ],
   "source": [
    "cub_tri, vtx_tri = SummationByParts.deriveTriCubatureDiagE(q=9,\n",
    "                                                    vertices=true, \n",
    "                                                    midedges=true, \n",
    "                                                    numS21=3, \n",
    "                                                    numedge=2, \n",
    "                                                    numS111=1, \n",
    "                                                    centroid=false,\n",
    "                                                    delta1=1e-2, delta2=1e-2, xinit = [], xedge = xedge, verbose=false)"
   ]
  },
  {
   "cell_type": "markdown",
   "id": "f0d5451a-fade-4ef8-a36e-2733038bbc39",
   "metadata": {},
   "source": [
    "To build SBP diagonal-E opertor using the above quadrature, we proceed as follows:"
   ]
  },
  {
   "cell_type": "code",
   "execution_count": 4,
   "id": "fa3229db-6c90-410c-97c0-8cd3fc2a2884",
   "metadata": {},
   "outputs": [
    {
     "data": {
      "text/plain": [
       "([0.0021943470879656466, 0.0021943470879656466, 0.0021943470879656466, 0.02335234785435418, 0.02335234785435418, 0.02335234785435418, 0.08773819266871097, 0.08773819266871097, 0.08773819266871097, 0.10176391730890032  …  0.019549042149360124, 0.019549042149360124, 0.019549042149360124, 0.019549042149360124, 0.10140212768518968, 0.10140212768518968, 0.10140212768518968, 0.10140212768518968, 0.10140212768518968, 0.10140212768518968], [-0.023809523809523794 -0.0017805706134543075 … 0.00981478625894704 -0.003249346571973458; 0.0017805706134543075 0.02380952380952383 … 0.028468751179452738 0.02572428221626448; … ; -0.00981478625894704 -0.028468751179452738 … 0.0 -0.07712692336468223; 0.003249346571973458 -0.02572428221626448 … 0.07712692336468223 0.0;;; -0.02380952380952383 -0.0008902853067271915 … 0.010066170017343412 -0.004621462680110402; 0.0008902853067270952 3.469446951953614e-17 … 0.002744468963188216 -0.0027444689631881325; … ; -0.010066170017343412 -0.002744468963188216 … 0.0 -0.1542538467293644; 0.004621462680110402 0.0027444689631881325 … 0.1542538467293644 0.0], [-0.04761904761904759 0.0 … 0.0 0.0; 0.0 0.04761904761904766 … 0.0 0.0; … ; 0.0 0.0 … 0.0 0.0; 0.0 0.0 … 0.0 0.0;;; -0.04761904761904766 -9.62613451722482e-17 … 0.0 0.0; -9.626134517224821e-17 6.938893903907228e-17 … 0.0 0.0; … ; 0.0 0.0 … 0.0 0.0; 0.0 0.0 … 0.0 0.0])"
      ]
     },
     "execution_count": 4,
     "metadata": {},
     "output_type": "execute_result"
    }
   ],
   "source": [
    "w, Q, E = SummationByParts.buildoperators(cub_tri, vtx_tri, 5, vertices=true)"
   ]
  },
  {
   "cell_type": "markdown",
   "id": "8bf0e320-1d75-4a82-8b14-75f4318644c1",
   "metadata": {},
   "source": [
    "Now we can access all operators as follows:"
   ]
  },
  {
   "cell_type": "code",
   "execution_count": 5,
   "id": "97f28d5e-92ef-42d9-adc2-a54e4992f8eb",
   "metadata": {},
   "outputs": [],
   "source": [
    "Qx = Q[:,:,1];\n",
    "Qy = Q[:,:,2];\n",
    "H = diagm(w);\n",
    "Ex = E[:,:,1];\n",
    "Ey = E[:,:,2];\n",
    "Dx = inv(H)*Qx;\n",
    "Dy = inv(H)*Qy;\n",
    "Sx = Qx - 0.5.*Ex;\n",
    "Sy = Qy - 0.5.*Ey;"
   ]
  },
  {
   "cell_type": "markdown",
   "id": "5ba1d90e-a64b-4b81-b1d0-e0c36d55873e",
   "metadata": {},
   "source": [
    "We can check if the SBP property is satisfied."
   ]
  },
  {
   "cell_type": "code",
   "execution_count": 6,
   "id": "07973010-08e5-468c-b04e-7597c0501bc1",
   "metadata": {},
   "outputs": [
    {
     "data": {
      "text/plain": [
       "1.4642778842076102e-17"
      ]
     },
     "execution_count": 6,
     "metadata": {},
     "output_type": "execute_result"
    }
   ],
   "source": [
    "norm(Qx+Qx' - Ex)"
   ]
  },
  {
   "cell_type": "code",
   "execution_count": 7,
   "id": "ed9eb93d-37ed-44c1-92c1-b86e52ac05f7",
   "metadata": {},
   "outputs": [
    {
     "data": {
      "text/plain": [
       "1.4642778842076102e-17"
      ]
     },
     "execution_count": 7,
     "metadata": {},
     "output_type": "execute_result"
    }
   ],
   "source": [
    "norm(Qy+Qy' - Ey)"
   ]
  },
  {
   "cell_type": "markdown",
   "id": "381b55aa-b5e6-4725-9720-26c1f595cc03",
   "metadata": {},
   "source": [
    "## SBP Operators on Tetrahedra"
   ]
  },
  {
   "cell_type": "markdown",
   "id": "2a574fba-5514-4eb0-bc2c-eb8efa0cfd3c",
   "metadata": {},
   "source": [
    "Consider the quadrature rule of degree 6 that we have derived previously to construct a degree $p=3$ SBP diagonal-E operator. "
   ]
  },
  {
   "cell_type": "code",
   "execution_count": 8,
   "id": "06964c74-aa3e-4cb5-bda9-97d3cbd47393",
   "metadata": {},
   "outputs": [],
   "source": [
    "q=6;\n",
    "p=3;\n",
    "qf=2*p;"
   ]
  },
  {
   "cell_type": "code",
   "execution_count": 9,
   "id": "3eb7be0d-a8db-428d-86aa-1d44400d36d2",
   "metadata": {},
   "outputs": [
    {
     "name": "stdout",
     "output_type": "stream",
     "text": [
      "----------------------------------------------------------------------------------------------\n",
      "iter_pso = 2400:  iter_lma = 620:  nperturb_pso = 32:  res norm = 3.9585412909313905e-14\n",
      "----------------------------------------------------------------------------------------------\n"
     ]
    },
    {
     "data": {
      "text/plain": [
       "(TriSymCub{Float64}(3, 4, 15, true, false, false, 1, 2, 0, [0, 3, 1], [0.8506802519794946, 0.2372273727931829, 0.6922540583740098], [0.014260718614410178, 0.330358977291136, 0.20376930605390753, 0.05913883235361154]), [-1.0 -1.0; 1.0 -1.0; -1.0 1.0])"
      ]
     },
     "execution_count": 9,
     "metadata": {},
     "output_type": "execute_result"
    }
   ],
   "source": [
    "cub_facet, vtx_facet = SummationByParts.deriveTriCubatureGamma(q=qf,\n",
    "                                                       vertices=true,\n",
    "                                                       midedges=false,\n",
    "                                                       numS21=2,\n",
    "                                                       numedge=1,\n",
    "                                                       numS111=0,\n",
    "                                                       centroid=false,\n",
    "                                                       xinit=[],\n",
    "                                                       delta1=1e-3,delta2=1e-1,verbose=false)"
   ]
  },
  {
   "cell_type": "code",
   "execution_count": 10,
   "id": "2f451c20-a8e8-4202-9b22-a1a3a062e0a5",
   "metadata": {},
   "outputs": [
    {
     "name": "stdout",
     "output_type": "stream",
     "text": [
      "----------------------------------------------------------------------------------------------\n",
      "iter_pso = 0:  iter_lma = 24:  nperturb_pso = 0:  res norm = 2.5932967513921142e-15\n",
      "----------------------------------------------------------------------------------------------\n"
     ]
    },
    {
     "data": {
      "text/plain": [
       "(TetSymCub{Float64}(5, 7, 51, true, false, true, false, 1, 2, 0, 1, 1, 0, 0, [1, 2, 1, 3, 0], [0.3931484668771844, 0.257863918563195, 0.8506802519794946, 0.2372273727931829, 0.6922540583740098], [0.000831199213836366, 0.06707451628396921, 0.08700624630786465, 0.025281032406422304, 0.014487003956737961, 0.004650827385021457, 0.006646628516743191]), [-1.0 -1.0 -1.0; 1.0 -1.0 -1.0; -1.0 1.0 -1.0; -1.0 -1.0 1.0])"
      ]
     },
     "execution_count": 10,
     "metadata": {},
     "output_type": "execute_result"
    }
   ],
   "source": [
    "xedge = cub_facet.params\n",
    "cub_tet, vtx_tet = SummationByParts.deriveTetCubatureDiagE(q=q,\n",
    "                                                   vertices=true,\n",
    "                                                   numS31=1,\n",
    "                                                   midedges=false, \n",
    "                                                   numS22=1,\n",
    "                                                   numfaceS21=2, \n",
    "                                                   numedge=1, \n",
    "                                                   numS211=0,\n",
    "                                                   numfaceS111=0, \n",
    "                                                   facecentroid=false,\n",
    "                                                   numS1111=0,\n",
    "                                                   centroid=true,\n",
    "                                                   xinit=[],\n",
    "                                                   xedge=xedge,\n",
    "                                                   delta1=1e-3,\n",
    "                                                   delta2=1e-1,\n",
    "                                                   verbose=false)"
   ]
  },
  {
   "cell_type": "markdown",
   "id": "009d51fd-1ba2-47ce-9f2e-c32fa2731fea",
   "metadata": {},
   "source": [
    "Now, we can simply construct the an SBP operator of degree $p=3$ as follows:"
   ]
  },
  {
   "cell_type": "code",
   "execution_count": 11,
   "id": "daf02df7-ad37-40a5-b0df-af12d0c2ca0b",
   "metadata": {},
   "outputs": [
    {
     "data": {
      "text/plain": [
       "([0.000831199213836366, 0.000831199213836366, 0.000831199213836366, 0.000831199213836366, 0.06707451628396921, 0.06707451628396921, 0.06707451628396921, 0.06707451628396921, 0.08700624630786465, 0.08700624630786465  …  0.004650827385021457, 0.004650827385021457, 0.004650827385021457, 0.004650827385021457, 0.004650827385021457, 0.004650827385021457, 0.004650827385021457, 0.004650827385021457, 0.004650827385021457, 0.006646628516743191], [-0.007130359307205089 -0.0011963999592268508 … -5.298891963690636e-5 0.00326415161681456; 0.0011963999592268508 0.007130359307205089 … 5.2988919636896937e-5 -0.003264151616814594; … ; 5.298891963690636e-5 -5.2988919636896937e-5 … 0.0 -3.120913400412216e-17; -0.00326415161681456 0.003264151616814594 … 3.120913400412216e-17 0.0;;; -0.007130359307205089 -0.0005981999796134143 … -0.002704982226496651 0.003264151616814516; 0.0005981999796134143 0.0 … -0.0026519933068597464 -5.319327296409045e-17; … ; 0.002704982226496651 0.0026519933068597464 … 0.02956941617680577 0.00036190589402006266; -0.003264151616814516 5.319327296409045e-17 … -0.00036190589402006266 0.0;;; -0.007130359307205089 -0.0005981999796134204 … -0.0022563461809977777 0.0032641516168145307; 0.0005981999796134204 0.0 … -0.0022033572613608726 -5.968038092735913e-17; … ; 0.0022563461809977777 0.0022033572613608726 … 0.02956941617680577 0.0025493884947506403; -0.0032641516168145307 5.968038092735913e-17 … -0.0025493884947506403 0.0], [-0.014260718614410178 0.0 … 0.0 0.0; 0.0 0.014260718614410178 … 0.0 0.0; … ; 0.0 0.0 … 0.0 0.0; 0.0 0.0 … 0.0 0.0;;; -0.014260718614410178 0.0 … 0.0 0.0; 0.0 0.0 … 0.0 0.0; … ; 0.0 0.0 … 0.05913883235361154 0.0; 0.0 0.0 … 0.0 0.0;;; -0.014260718614410178 0.0 … 0.0 0.0; 0.0 0.0 … 0.0 0.0; … ; 0.0 0.0 … 0.05913883235361154 0.0; 0.0 0.0 … 0.0 0.0])"
      ]
     },
     "execution_count": 11,
     "metadata": {},
     "output_type": "execute_result"
    }
   ],
   "source": [
    "# We must provide the facet operator type, currently the availabe types are, :Omega and :DiagE\n",
    "# To enforce using the facet quadrature we derived, we must also provide facetcub and facetvtx; \n",
    "# otherwise, available default facet operators saved in the code will be used\n",
    "w, Q, E = SummationByParts.buildoperators(cub_tet, vtx_tet, p, faceopertype=:DiagE, facecub=cub_facet, facevtx=vtx_facet)"
   ]
  },
  {
   "cell_type": "markdown",
   "id": "8a0c6b39-64ba-48ad-9e59-c7b6ab55bf36",
   "metadata": {},
   "source": [
    "Then, we access all the remaining operators as:"
   ]
  },
  {
   "cell_type": "code",
   "execution_count": 12,
   "id": "4687bfd3-39f9-45b8-9dc9-6015119956d7",
   "metadata": {},
   "outputs": [],
   "source": [
    "Qx = Q[:,:,1];\n",
    "Qy = Q[:,:,2];\n",
    "Qz = Q[:,:,3];\n",
    "H = diagm(w);\n",
    "Ex = E[:,:,1];\n",
    "Ey = E[:,:,2];\n",
    "Ez = E[:,:,3];\n",
    "Dx = inv(H)*Qx;\n",
    "Dy = inv(H)*Qy;\n",
    "Dz = inv(H)*Qz;\n",
    "Sx = Qx - 0.5.*Ex;\n",
    "Sy = Qy - 0.5.*Ey;\n",
    "Sz = Qz - 0.5.*Ez;"
   ]
  },
  {
   "cell_type": "markdown",
   "id": "3d741379-070c-40d4-b2b1-9716171738cb",
   "metadata": {},
   "source": [
    "Check if the SBP property is satisfied:"
   ]
  },
  {
   "cell_type": "code",
   "execution_count": 13,
   "id": "473fc437-f2fd-48c6-8b87-1380ab5809f5",
   "metadata": {},
   "outputs": [
    {
     "data": {
      "text/plain": [
       "0.0"
      ]
     },
     "execution_count": 13,
     "metadata": {},
     "output_type": "execute_result"
    }
   ],
   "source": [
    "norm(Qx+Qx' - Ex)"
   ]
  },
  {
   "cell_type": "code",
   "execution_count": 14,
   "id": "91beb4ce-f9f0-4cbd-b998-d6bddf5da35d",
   "metadata": {},
   "outputs": [
    {
     "data": {
      "text/plain": [
       "0.0"
      ]
     },
     "execution_count": 14,
     "metadata": {},
     "output_type": "execute_result"
    }
   ],
   "source": [
    "norm(Qy+Qy' - Ey)"
   ]
  },
  {
   "cell_type": "code",
   "execution_count": 15,
   "id": "34104b14-9c61-454d-9199-f0216c2edd2d",
   "metadata": {},
   "outputs": [
    {
     "data": {
      "text/plain": [
       "0.0"
      ]
     },
     "execution_count": 15,
     "metadata": {},
     "output_type": "execute_result"
    }
   ],
   "source": [
    "norm(Qz+Qz' - Ez)"
   ]
  },
  {
   "cell_type": "code",
   "execution_count": null,
   "id": "5ef5747a-0d17-4ba1-a965-00565bbfed9a",
   "metadata": {},
   "outputs": [],
   "source": []
  }
 ],
 "metadata": {
  "kernelspec": {
   "display_name": "Julia 1.9.3",
   "language": "julia",
   "name": "julia-1.9"
  },
  "language_info": {
   "file_extension": ".jl",
   "mimetype": "application/julia",
   "name": "julia",
   "version": "1.9.3"
  }
 },
 "nbformat": 4,
 "nbformat_minor": 5
}
