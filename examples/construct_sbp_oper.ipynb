{
 "cells": [
  {
   "cell_type": "code",
   "execution_count": 17,
   "id": "1537c97c-ea22-45ef-9dbc-50788a44ff81",
   "metadata": {},
   "outputs": [],
   "source": [
    "using SummationByParts, LinearAlgebra\n",
    "using SummationByParts.Cubature, SummationByParts.SymCubatures\n",
    "using Latexify"
   ]
  },
  {
   "cell_type": "markdown",
   "id": "14ee3ea0-bfae-4bb0-b153-8174d0e38f2a",
   "metadata": {},
   "source": [
    "# Construct SBP Operators"
   ]
  },
  {
   "cell_type": "markdown",
   "id": "c3b6e11a-b647-4e29-8822-812a83eab723",
   "metadata": {},
   "source": [
    "Okay, we have derived some existing or new quadrature rules. How do we proceed to construct SBP operators?"
   ]
  },
  {
   "cell_type": "markdown",
   "id": "bcefed8f-6e9c-4725-96b6-3cf3bad1df72",
   "metadata": {},
   "source": [
    "## SBP Operators on Triangles (with LG or LGL facet nodes)"
   ]
  },
  {
   "cell_type": "markdown",
   "id": "4d391ec1-f68f-4863-b26a-d762825b208b",
   "metadata": {},
   "source": [
    "Consider the quadrature rule we derived for SBP diagonal-E operators."
   ]
  },
  {
   "cell_type": "code",
   "execution_count": 18,
   "id": "a355ec18-8944-4ad1-aacb-8abec4327691",
   "metadata": {},
   "outputs": [],
   "source": [
    "qf = 11; # the facet quadrature must be qf=q+mod(q,2)+1\n",
    "cub,_ = SummationByParts.Cubature.quadrature(qf, internal=false); # get LGL nodes for the facet nodes\n",
    "xedge = cub.params;"
   ]
  },
  {
   "cell_type": "code",
   "execution_count": 19,
   "id": "44f2d01c-d399-43c9-99b3-ba97789f06f6",
   "metadata": {},
   "outputs": [
    {
     "name": "stdout",
     "output_type": "stream",
     "text": [
      "----------------------------------------------------------------------------------------------\n",
      "iter_pso = 800:  iter_lma = 25:  nperturb_pso = 1:  res norm = 2.1698610138775944e-15\n",
      "----------------------------------------------------------------------------------------------\n"
     ]
    },
    {
     "data": {
      "text/plain": [
       "(TriSymCub{Float64}(7, 8, 33, true, true, false, 2, 3, 1, [0, 5, 3], [0.20874149756969354, 0.5052777031940232, 0.9019135602326743, 0.9151119481392835, 0.7344243967353571, 0.12720911519282319, 0.5890156389073408], [0.001572607990079414, 0.021822749896475195, 0.10552616307685722, 0.19316667114967143, 0.09356963927041088, 0.01791574409676497, 0.014623297206464315, 0.09296537633835696]), [-1.0 -1.0; 1.0 -1.0; -1.0 1.0])"
      ]
     },
     "metadata": {},
     "output_type": "display_data"
    }
   ],
   "source": [
    "cub_tri, vtx_tri = SummationByParts.deriveTriCubatureDiagE(q=9,\n",
    "                                                    vertices=true, \n",
    "                                                    midedges=true, \n",
    "                                                    numS21=3, \n",
    "                                                    numedge=2, \n",
    "                                                    numS111=1, \n",
    "                                                    centroid=false,\n",
    "                                                    delta1=1e-2, delta2=1e-2, xinit = [], xedge = xedge, verbose=false)"
   ]
  },
  {
   "cell_type": "markdown",
   "id": "f0d5451a-fade-4ef8-a36e-2733038bbc39",
   "metadata": {},
   "source": [
    "To build SBP diagonal-E opertor using the above quadrature, we proceed as follows:"
   ]
  },
  {
   "cell_type": "code",
   "execution_count": 20,
   "id": "fa3229db-6c90-410c-97c0-8cd3fc2a2884",
   "metadata": {},
   "outputs": [
    {
     "data": {
      "text/plain": [
       "([0.001572607990079414, 0.001572607990079414, 0.001572607990079414, 0.021822749896475195, 0.021822749896475195, 0.021822749896475195, 0.10552616307685722, 0.10552616307685722, 0.10552616307685722, 0.19316667114967143  …  0.014623297206464315, 0.014623297206464315, 0.014623297206464315, 0.014623297206464315, 0.09296537633835696, 0.09296537633835696, 0.09296537633835696, 0.09296537633835696, 0.09296537633835696, 0.09296537633835696], [-0.023809523809523794 -0.002388552750029964 … 0.002089742942075226 0.0220523348279083; 0.002388552750029964 0.02380952380952383 … 0.020878627947158224 0.025347107398142443; … ; -0.002089742942075226 -0.020878627947158224 … 0.0 0.030781509272223284; -0.0220523348279083 -0.025347107398142443 … -0.030781509272223284 0.0;;; -0.02380952380952383 -0.0011942763750150192 … 0.0026468315896957073 0.021721125283689635; 0.001194276375014923 3.469446951953614e-17 … -0.00446847945098417 0.0044684794509838735; … ; -0.0026468315896957073 0.00446847945098417 … 0.0 0.06156301854444678; -0.021721125283689635 -0.0044684794509838735 … -0.06156301854444678 0.0], [-0.04761904761904759 0.0 … 0.0 0.0; 0.0 0.04761904761904766 … 0.0 0.0; … ; 0.0 0.0 … 0.0 0.0; 0.0 0.0 … 0.0 0.0;;; -0.04761904761904766 -9.62613451722482e-17 … 0.0 0.0; -9.626134517224821e-17 6.938893903907228e-17 … 0.0 0.0; … ; 0.0 0.0 … 0.0 0.0; 0.0 0.0 … 0.0 0.0])"
      ]
     },
     "metadata": {},
     "output_type": "display_data"
    }
   ],
   "source": [
    "w, Q, E = SummationByParts.buildoperators(cub_tri, vtx_tri, 5, vertices=true)"
   ]
  },
  {
   "cell_type": "markdown",
   "id": "8bf0e320-1d75-4a82-8b14-75f4318644c1",
   "metadata": {},
   "source": [
    "Now we can access all operators as follows:"
   ]
  },
  {
   "cell_type": "code",
   "execution_count": 21,
   "id": "97f28d5e-92ef-42d9-adc2-a54e4992f8eb",
   "metadata": {},
   "outputs": [],
   "source": [
    "Qx = Q[:,:,1];\n",
    "Qy = Q[:,:,2];\n",
    "H = diagm(w);\n",
    "Ex = E[:,:,1];\n",
    "Ey = E[:,:,2];\n",
    "Dx = inv(H)*Qx;\n",
    "Dy = inv(H)*Qy;\n",
    "Sx = Qx - 0.5.*Ex;\n",
    "Sy = Qy - 0.5.*Ey;"
   ]
  },
  {
   "cell_type": "markdown",
   "id": "5ba1d90e-a64b-4b81-b1d0-e0c36d55873e",
   "metadata": {},
   "source": [
    "We can check if the SBP property is satisfied."
   ]
  },
  {
   "cell_type": "code",
   "execution_count": 22,
   "id": "07973010-08e5-468c-b04e-7597c0501bc1",
   "metadata": {},
   "outputs": [
    {
     "data": {
      "text/plain": [
       "1.9305769020362074e-17"
      ]
     },
     "metadata": {},
     "output_type": "display_data"
    }
   ],
   "source": [
    "norm(Qx+Qx' - Ex)"
   ]
  },
  {
   "cell_type": "code",
   "execution_count": 23,
   "id": "ed9eb93d-37ed-44c1-92c1-b86e52ac05f7",
   "metadata": {},
   "outputs": [
    {
     "data": {
      "text/plain": [
       "1.9305769020362074e-17"
      ]
     },
     "metadata": {},
     "output_type": "display_data"
    }
   ],
   "source": [
    "norm(Qy+Qy' - Ey)"
   ]
  },
  {
   "cell_type": "markdown",
   "id": "381b55aa-b5e6-4725-9720-26c1f595cc03",
   "metadata": {},
   "source": [
    "## SBP Operators on Tetrahedra"
   ]
  },
  {
   "cell_type": "markdown",
   "id": "2a574fba-5514-4eb0-bc2c-eb8efa0cfd3c",
   "metadata": {},
   "source": [
    "Consider the quadrature rule of degree 6 that we have derived previously to construct a degree $p=3$ SBP diagonal-E operator. "
   ]
  },
  {
   "cell_type": "code",
   "execution_count": 24,
   "id": "06964c74-aa3e-4cb5-bda9-97d3cbd47393",
   "metadata": {},
   "outputs": [],
   "source": [
    "q=6;\n",
    "p=3;\n",
    "qf=2*p;"
   ]
  },
  {
   "cell_type": "code",
   "execution_count": 25,
   "id": "3eb7be0d-a8db-428d-86aa-1d44400d36d2",
   "metadata": {},
   "outputs": [
    {
     "name": "stdout",
     "output_type": "stream",
     "text": [
      "No solution found after a 200 LMA iterations.\n",
      "No solution found after a 200 LMA iterations.\n",
      "No solution found after a 200 LMA iterations.\n",
      "No solution found after a 200 LMA iterations.\n",
      "----------------------------------------------------------------------------------------------\n",
      "iter_pso = 7200:  iter_lma = 812:  nperturb_pso = 98:  res norm = 1.3771293916064013e-15\n",
      "----------------------------------------------------------------------------------------------\n"
     ]
    },
    {
     "data": {
      "text/plain": [
       "(TriSymCub{Float64}(3, 4, 15, true, false, false, 1, 2, 0, [0, 3, 1], [0.2372273727931858, 0.8506802519794943, 0.6922540583740083], [0.014260718614408955, 0.20376930605390364, 0.3303589772911329, 0.05913883235361056]), [-1.0 -1.0; 1.0 -1.0; -1.0 1.0])"
      ]
     },
     "metadata": {},
     "output_type": "display_data"
    }
   ],
   "source": [
    "cub_facet, vtx_facet = SummationByParts.deriveTriCubatureGamma(q=qf,\n",
    "                                                       vertices=true,\n",
    "                                                       midedges=false,\n",
    "                                                       numS21=2,\n",
    "                                                       numedge=1,\n",
    "                                                       numS111=0,\n",
    "                                                       centroid=false,\n",
    "                                                       xinit=[],\n",
    "                                                       delta1=1e-3,delta2=1e-1,verbose=false)"
   ]
  },
  {
   "cell_type": "code",
   "execution_count": 26,
   "id": "2f451c20-a8e8-4202-9b22-a1a3a062e0a5",
   "metadata": {},
   "outputs": [
    {
     "name": "stdout",
     "output_type": "stream",
     "text": [
      "----------------------------------------------------------------------------------------------\n",
      "iter_pso = 1600:  iter_lma = 12:  nperturb_pso = 5:  res norm = 3.1207043064146366e-14\n",
      "----------------------------------------------------------------------------------------------\n"
     ]
    },
    {
     "data": {
      "text/plain": [
       "(TetSymCub{Float64}(5, 7, 51, true, false, true, false, 1, 2, 0, 1, 1, 0, 0, [1, 2, 1, 3, 0], [0.39314846687717114, 0.2578639185632058, 0.2372273727931858, 0.8506802519794943, 0.6922540583740083], [0.0008311992138366359, 0.067074516283964, 0.08700624630787392, 0.014487003956738027, 0.02528103240642213, 0.004650827385021338, 0.006646628516709846]), [-1.0 -1.0 -1.0; 1.0 -1.0 -1.0; -1.0 1.0 -1.0; -1.0 -1.0 1.0])"
      ]
     },
     "metadata": {},
     "output_type": "display_data"
    }
   ],
   "source": [
    "xedge = cub_facet.params\n",
    "cub_tet, vtx_tet = SummationByParts.deriveTetCubatureDiagE(q=q,\n",
    "                                                   vertices=true,\n",
    "                                                   numS31=1,\n",
    "                                                   midedges=false, \n",
    "                                                   numS22=1,\n",
    "                                                   numfaceS21=2, \n",
    "                                                   numedge=1, \n",
    "                                                   numS211=0,\n",
    "                                                   numfaceS111=0, \n",
    "                                                   facecentroid=false,\n",
    "                                                   numS1111=0,\n",
    "                                                   centroid=true,\n",
    "                                                   xinit=[],\n",
    "                                                   xedge=xedge,\n",
    "                                                   delta1=1e-3,\n",
    "                                                   delta2=1e-1,\n",
    "                                                   verbose=false)"
   ]
  },
  {
   "cell_type": "markdown",
   "id": "009d51fd-1ba2-47ce-9f2e-c32fa2731fea",
   "metadata": {},
   "source": [
    "Now, we can simply construct the an SBP operator of degree $p=3$ as follows:"
   ]
  },
  {
   "cell_type": "code",
   "execution_count": 27,
   "id": "daf02df7-ad37-40a5-b0df-af12d0c2ca0b",
   "metadata": {},
   "outputs": [
    {
     "data": {
      "text/plain": [
       "([0.0008311992138366359, 0.0008311992138366359, 0.0008311992138366359, 0.0008311992138366359, 0.067074516283964, 0.067074516283964, 0.067074516283964, 0.067074516283964, 0.08700624630787392, 0.08700624630787392  …  0.004650827385021338, 0.004650827385021338, 0.004650827385021338, 0.004650827385021338, 0.004650827385021338, 0.004650827385021338, 0.004650827385021338, 0.004650827385021338, 0.004650827385021338, 0.006646628516709846], [-0.007130359307204477 -0.001196399959226769 … -5.2988919636878614e-5 0.0032641516168204375; 0.001196399959226769 0.007130359307204477 … 5.2988919636859355e-5 -0.0032641516168204804; … ; 5.2988919636878614e-5 -5.2988919636859355e-5 … 0.0 5.262483483100303e-17; -0.0032641516168204375 0.0032641516168204804 … -5.262483483100303e-17 0.0;;; -0.007130359307204477 -0.0005981999796133772 … -0.0027049822264964933 0.003264151616820439; 0.0005981999796133772 0.0 … -0.0026519933068596528 -6.323958535667037e-17; … ; 0.0027049822264964933 0.0026519933068596528 … 0.02956941617680528 0.00036190589401635377; -0.003264151616820439 6.323958535667037e-17 … -0.00036190589401635377 0.0;;; -0.007130359307204477 -0.0005981999796133954 … -0.0022563461809976307 0.0032641516168204552; 0.0005981999796133954 0.0 … -0.002203357261360793 1.5743380321703056e-18; … ; 0.0022563461809976307 0.002203357261360793 … 0.02956941617680528 0.0025493884947504677; -0.0032641516168204552 -1.5743380321703056e-18 … -0.0025493884947504677 0.0], [-0.014260718614408955 0.0 … 0.0 0.0; 0.0 0.014260718614408955 … 0.0 0.0; … ; 0.0 0.0 … 0.0 0.0; 0.0 0.0 … 0.0 0.0;;; -0.014260718614408955 0.0 … 0.0 0.0; 0.0 0.0 … 0.0 0.0; … ; 0.0 0.0 … 0.05913883235361056 0.0; 0.0 0.0 … 0.0 0.0;;; -0.014260718614408955 0.0 … 0.0 0.0; 0.0 0.0 … 0.0 0.0; … ; 0.0 0.0 … 0.05913883235361056 0.0; 0.0 0.0 … 0.0 0.0])"
      ]
     },
     "metadata": {},
     "output_type": "display_data"
    }
   ],
   "source": [
    "# We must provide the facet operator type, currently the availabe types are, :Omega and :DiagE\n",
    "# To enforce using the facet quadrature we derived, we must also provide facetcub and facetvtx; \n",
    "# otherwise, available default facet operators saved in the code will be used\n",
    "w, Q, E = SummationByParts.buildoperators(cub_tet, vtx_tet, p, faceopertype=:DiagE, facecub=cub_facet, facevtx=vtx_facet)"
   ]
  },
  {
   "cell_type": "markdown",
   "id": "8a0c6b39-64ba-48ad-9e59-c7b6ab55bf36",
   "metadata": {},
   "source": [
    "Then, we access all the remaining operators as:"
   ]
  },
  {
   "cell_type": "code",
   "execution_count": 28,
   "id": "4687bfd3-39f9-45b8-9dc9-6015119956d7",
   "metadata": {},
   "outputs": [],
   "source": [
    "Qx = Q[:,:,1];\n",
    "Qy = Q[:,:,2];\n",
    "Qz = Q[:,:,3];\n",
    "H = diagm(w);\n",
    "Ex = E[:,:,1];\n",
    "Ey = E[:,:,2];\n",
    "Ez = E[:,:,3];\n",
    "Dx = inv(H)*Qx;\n",
    "Dy = inv(H)*Qy;\n",
    "Dz = inv(H)*Qz;\n",
    "Sx = Qx - 0.5.*Ex;\n",
    "Sy = Qy - 0.5.*Ey;\n",
    "Sz = Qz - 0.5.*Ez;"
   ]
  },
  {
   "cell_type": "markdown",
   "id": "3d741379-070c-40d4-b2b1-9716171738cb",
   "metadata": {},
   "source": [
    "Check if the SBP property is satisfied:"
   ]
  },
  {
   "cell_type": "code",
   "execution_count": 29,
   "id": "473fc437-f2fd-48c6-8b87-1380ab5809f5",
   "metadata": {},
   "outputs": [
    {
     "data": {
      "text/plain": [
       "0.0"
      ]
     },
     "metadata": {},
     "output_type": "display_data"
    }
   ],
   "source": [
    "norm(Qx+Qx' - Ex)"
   ]
  },
  {
   "cell_type": "code",
   "execution_count": 30,
   "id": "91beb4ce-f9f0-4cbd-b998-d6bddf5da35d",
   "metadata": {},
   "outputs": [
    {
     "data": {
      "text/plain": [
       "0.0"
      ]
     },
     "metadata": {},
     "output_type": "display_data"
    }
   ],
   "source": [
    "norm(Qy+Qy' - Ey)"
   ]
  },
  {
   "cell_type": "code",
   "execution_count": 31,
   "id": "34104b14-9c61-454d-9199-f0216c2edd2d",
   "metadata": {},
   "outputs": [
    {
     "data": {
      "text/plain": [
       "0.0"
      ]
     },
     "metadata": {},
     "output_type": "display_data"
    }
   ],
   "source": [
    "norm(Qz+Qz' - Ez)"
   ]
  },
  {
   "cell_type": "code",
   "execution_count": 32,
   "id": "5ef5747a-0d17-4ba1-a965-00565bbfed9a",
   "metadata": {},
   "outputs": [],
   "source": []
  }
 ],
 "metadata": {
  "kernelspec": {
   "display_name": "Julia 1.9.3",
   "language": "julia",
   "name": "julia-1.9"
  },
  "language_info": {
   "file_extension": ".jl",
   "mimetype": "application/julia",
   "name": "julia",
   "version": "1.9.3"
  }
 },
 "nbformat": 4,
 "nbformat_minor": 5
}
